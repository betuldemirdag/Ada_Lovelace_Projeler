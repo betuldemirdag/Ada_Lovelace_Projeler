{
 "cells": [
  {
   "cell_type": "markdown",
   "metadata": {},
   "source": [
    "## Week 1"
   ]
  },
  {
   "cell_type": "markdown",
   "metadata": {},
   "source": [
    "### Exercise 1:\n",
    "Write a function that receives a list as parameter and return how many elements it has; if it doesn't have any element return an error."
   ]
  },
  {
   "cell_type": "markdown",
   "metadata": {},
   "source": [
    "#### Solution 1:"
   ]
  },
  {
   "cell_type": "code",
   "execution_count": 2,
   "metadata": {},
   "outputs": [],
   "source": [
    "list1 = [\"paper\", \"pencil\", \"notebook\", \"book\", \"pen\", \"rubber\"]\n",
    "list2 = [\"apple\", \"orange\", \"banana\", \"pear\", \"melon\", \"watermelon\", \"grape\"]\n",
    "list3 = [\"purple\", \"orange\", \"yellow\", \"red\", \"grey\", \"black\", \"white\", \"blue\", \"brown\", \"maroon\", \"green\", \"aquamarin\"]\n",
    "list4 = []\n",
    "\n",
    "def count_list(select):\n",
    "    if len(select) == 0:\n",
    "        print(\"Error! The list is empty\")\n",
    "    else:\n",
    "        print(f\"The lenght of the list:\", len(select))"
   ]
  },
  {
   "cell_type": "code",
   "execution_count": 3,
   "metadata": {},
   "outputs": [
    {
     "name": "stdout",
     "output_type": "stream",
     "text": [
      "The lenght of the list: 6\n"
     ]
    }
   ],
   "source": [
    "count_list(list1)"
   ]
  },
  {
   "cell_type": "code",
   "execution_count": 4,
   "metadata": {},
   "outputs": [
    {
     "name": "stdout",
     "output_type": "stream",
     "text": [
      "Error! The list is empty\n"
     ]
    }
   ],
   "source": [
    "count_list(list4)"
   ]
  },
  {
   "cell_type": "markdown",
   "metadata": {},
   "source": [
    "### Exercise 2:\n",
    "Write a function that receives a string as parameter and return the number of each character in it."
   ]
  },
  {
   "cell_type": "code",
   "execution_count": 5,
   "metadata": {},
   "outputs": [
    {
     "name": "stdout",
     "output_type": "stream",
     "text": [
      "5\n"
     ]
    }
   ],
   "source": [
    "my_string = \"Betül\"\n",
    "a_list = []\n",
    "\n",
    "for i in my_string:\n",
    "    a_list.append(i)\n",
    "\n",
    "print(len(a_list))"
   ]
  },
  {
   "cell_type": "markdown",
   "metadata": {},
   "source": [
    "Another way for solution"
   ]
  },
  {
   "cell_type": "code",
   "execution_count": 6,
   "metadata": {},
   "outputs": [],
   "source": [
    "import requests \n",
    "from html.parser import HTMLParser\n",
    "\n",
    "url = \"https://medium.com/@iremkomurcu/data-science-interviews-and-possible-questions-27e3e409ad1f\"\n",
    "my_text = requests.get(url).content.decode('utf-8')"
   ]
  },
  {
   "cell_type": "code",
   "execution_count": null,
   "metadata": {},
   "outputs": [
    {
     "ename": "NameError",
     "evalue": "name 'my_text' is not defined",
     "output_type": "error",
     "traceback": [
      "\u001b[1;31m---------------------------------------------------------------------------\u001b[0m",
      "\u001b[1;31mNameError\u001b[0m                                 Traceback (most recent call last)",
      "\u001b[1;32mc:\\Users\\BETÜL DEMİRDAĞ\\Desktop\\Betül\\Ada Lovelace Akademi\\Ada Lovelace Akademi - Projeler\\week-1-exercise.ipynb Cell 11\u001b[0m line \u001b[0;36m1\n\u001b[1;32m----> <a href='vscode-notebook-cell:/c%3A/Users/BET%C3%9CL%20DEM%C4%B0RDA%C4%9E/Desktop/Bet%C3%BCl/Ada%20Lovelace%20Akademi/Ada%20Lovelace%20Akademi%20-%20Projeler/week-1-exercise.ipynb#X13sZmlsZQ%3D%3D?line=0'>1</a>\u001b[0m word_list \u001b[39m=\u001b[39m my_text\u001b[39m.\u001b[39msplit(\u001b[39m\"\u001b[39m\u001b[39m \u001b[39m\u001b[39m\"\u001b[39m)\n\u001b[0;32m      <a href='vscode-notebook-cell:/c%3A/Users/BET%C3%9CL%20DEM%C4%B0RDA%C4%9E/Desktop/Bet%C3%BCl/Ada%20Lovelace%20Akademi/Ada%20Lovelace%20Akademi%20-%20Projeler/week-1-exercise.ipynb#X13sZmlsZQ%3D%3D?line=1'>2</a>\u001b[0m \u001b[39mlen\u001b[39m(word_list)\n",
      "\u001b[1;31mNameError\u001b[0m: name 'my_text' is not defined"
     ]
    }
   ],
   "source": [
    "word_list = my_text.split(\" \")\n",
    "len(word_list)"
   ]
  },
  {
   "cell_type": "markdown",
   "metadata": {},
   "source": [
    "in text, there are 17.089 words."
   ]
  },
  {
   "cell_type": "code",
   "execution_count": null,
   "metadata": {},
   "outputs": [
    {
     "name": "stdout",
     "output_type": "stream",
     "text": [
      "231204\n"
     ]
    }
   ],
   "source": [
    "letter_list = []\n",
    "new_text = my_text.strip(\" \")\n",
    "\n",
    "for i in new_text:\n",
    "    letter_list.append(i)\n",
    "\n",
    "print(len(letter_list))"
   ]
  },
  {
   "cell_type": "markdown",
   "metadata": {},
   "source": [
    "in text, there are 231.204 letters."
   ]
  }
 ],
 "metadata": {
  "kernelspec": {
   "display_name": "Python 3",
   "language": "python",
   "name": "python3"
  },
  "language_info": {
   "codemirror_mode": {
    "name": "ipython",
    "version": 3
   },
   "file_extension": ".py",
   "mimetype": "text/x-python",
   "name": "python",
   "nbconvert_exporter": "python",
   "pygments_lexer": "ipython3",
   "version": "3.11.4"
  }
 },
 "nbformat": 4,
 "nbformat_minor": 2
}

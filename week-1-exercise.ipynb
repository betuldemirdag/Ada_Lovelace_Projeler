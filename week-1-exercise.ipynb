{
 "cells": [
  {
   "cell_type": "markdown",
   "metadata": {},
   "source": [
    "## Week 1"
   ]
  },
  {
   "cell_type": "markdown",
   "metadata": {},
   "source": [
    "### Exercise 1:\n",
    "Write a function that receives a list as parameter and return how many elements it has; if it doesn't have any element return an error."
   ]
  },
  {
   "cell_type": "markdown",
   "metadata": {},
   "source": [
    "#### Solution 1:"
   ]
  },
  {
   "cell_type": "code",
   "execution_count": 8,
   "metadata": {},
   "outputs": [],
   "source": [
    "list1 = [\"paper\", \"pencil\", \"notebook\", \"book\", \"pen\", \"rubber\"]\n",
    "list2 = [\"apple\", \"orange\", \"banana\", \"pear\", \"melon\", \"watermelon\", \"grape\"]\n",
    "list3 = [\"purple\", \"orange\", \"yellow\", \"red\", \"grey\", \"black\", \"white\", \"blue\", \"brown\", \"maroon\", \"green\", \"aquamarin\"]\n",
    "list4 = []\n",
    "\n",
    "def count_list(select):\n",
    "    if len(select) == 0:\n",
    "        print(\"Error! The list is empty\")\n",
    "    else:\n",
    "        print(f\"The lenght of the list:\", len(select))"
   ]
  },
  {
   "cell_type": "code",
   "execution_count": 9,
   "metadata": {},
   "outputs": [
    {
     "name": "stdout",
     "output_type": "stream",
     "text": [
      "The lenght of the list: 6\n"
     ]
    }
   ],
   "source": [
    "count_list(list1)"
   ]
  },
  {
   "cell_type": "code",
   "execution_count": 10,
   "metadata": {},
   "outputs": [
    {
     "name": "stdout",
     "output_type": "stream",
     "text": [
      "Error! The list is empty\n"
     ]
    }
   ],
   "source": [
    "count_list(list4)"
   ]
  },
  {
   "cell_type": "markdown",
   "metadata": {},
   "source": [
    "### Exercise 2:\n",
    "Write a function that receives a string as parameter and return the number of each character in it."
   ]
  },
  {
   "cell_type": "code",
   "execution_count": 11,
   "metadata": {},
   "outputs": [
    {
     "name": "stdout",
     "output_type": "stream",
     "text": [
      "5\n"
     ]
    }
   ],
   "source": [
    "my_string = \"Betül\"\n",
    "a_list = []\n",
    "\n",
    "for i in my_string:\n",
    "    a_list.append(i)\n",
    "\n",
    "print(len(a_list))"
   ]
  },
  {
   "cell_type": "markdown",
   "metadata": {},
   "source": [
    "Another way for solution"
   ]
  },
  {
   "cell_type": "code",
   "execution_count": 12,
   "metadata": {},
   "outputs": [],
   "source": [
    "import requests \n",
    "from html.parser import HTMLParser\n",
    "\n",
    "url = \"https://medium.com/@iremkomurcu/data-science-interviews-and-possible-questions-27e3e409ad1f\"\n",
    "my_text = requests.get(url).content.decode('utf-8')"
   ]
  },
  {
   "cell_type": "code",
   "execution_count": 13,
   "metadata": {},
   "outputs": [
    {
     "data": {
      "text/plain": [
       "17089"
      ]
     },
     "execution_count": 13,
     "metadata": {},
     "output_type": "execute_result"
    }
   ],
   "source": [
    "word_list = my_text.split(\" \")\n",
    "len(word_list)"
   ]
  },
  {
   "cell_type": "markdown",
   "metadata": {},
   "source": [
    "in text, there are 17.089 words."
   ]
  },
  {
   "cell_type": "code",
   "execution_count": 14,
   "metadata": {},
   "outputs": [
    {
     "name": "stdout",
     "output_type": "stream",
     "text": [
      "231204\n"
     ]
    }
   ],
   "source": [
    "letter_list = []\n",
    "new_text = my_text.strip(\" \")\n",
    "\n",
    "for i in new_text:\n",
    "    letter_list.append(i)\n",
    "\n",
    "print(len(letter_list))"
   ]
  },
  {
   "cell_type": "markdown",
   "metadata": {},
   "source": [
    "in text, there are 231.204 letters."
   ]
  }
 ],
 "metadata": {
  "kernelspec": {
   "display_name": "Python 3",
   "language": "python",
   "name": "python3"
  },
  "language_info": {
   "codemirror_mode": {
    "name": "ipython",
    "version": 3
   },
   "file_extension": ".py",
   "mimetype": "text/x-python",
   "name": "python",
   "nbconvert_exporter": "python",
   "pygments_lexer": "ipython3",
   "version": "3.11.4"
  }
 },
 "nbformat": 4,
 "nbformat_minor": 2
}

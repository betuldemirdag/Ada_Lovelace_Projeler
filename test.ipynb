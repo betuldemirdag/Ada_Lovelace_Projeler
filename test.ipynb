{
 "cells": [
  {
   "cell_type": "code",
   "execution_count": 2,
   "metadata": {},
   "outputs": [],
   "source": [
    "\n",
    "def driver_status(test_score, age):\n",
    "    if 16 <= age <= 18 and test_score >= 80:\n",
    "        print(\"intern-driver\")\n",
    "    elif age >= 18 and test_score >= 80:\n",
    "        print(\"driver\")\n",
    "    elif age >= 18 and 60 <= test_score <= 80:\n",
    "        print(\"supervised-driver\")\n",
    "    elif 16 <= age <= 18 and 60 <= test_score <= 80:\n",
    "        print(\"supervised - intern - driver\")\n",
    "    else:\n",
    "        print(\"unlicensed\")\n",
    "    \n",
    "    return test_score, age"
   ]
  },
  {
   "cell_type": "code",
   "execution_count": 3,
   "metadata": {},
   "outputs": [
    {
     "name": "stdout",
     "output_type": "stream",
     "text": [
      "intern-driver\n"
     ]
    },
    {
     "data": {
      "text/plain": [
       "(80, 16)"
      ]
     },
     "execution_count": 3,
     "metadata": {},
     "output_type": "execute_result"
    }
   ],
   "source": [
    "driver_status(80, 16)"
   ]
  },
  {
   "cell_type": "code",
   "execution_count": 4,
   "metadata": {},
   "outputs": [
    {
     "name": "stdout",
     "output_type": "stream",
     "text": [
      "unlicensed\n"
     ]
    },
    {
     "data": {
      "text/plain": [
       "(90, 15)"
      ]
     },
     "execution_count": 4,
     "metadata": {},
     "output_type": "execute_result"
    }
   ],
   "source": [
    "driver_status(90, 15)"
   ]
  },
  {
   "cell_type": "code",
   "execution_count": 5,
   "metadata": {},
   "outputs": [
    {
     "name": "stdout",
     "output_type": "stream",
     "text": [
      "supervised-driver\n"
     ]
    },
    {
     "data": {
      "text/plain": [
       "(70, 20)"
      ]
     },
     "execution_count": 5,
     "metadata": {},
     "output_type": "execute_result"
    }
   ],
   "source": [
    "driver_status(70, 20)"
   ]
  }
 ],
 "metadata": {
  "kernelspec": {
   "display_name": "base",
   "language": "python",
   "name": "python3"
  },
  "language_info": {
   "codemirror_mode": {
    "name": "ipython",
    "version": 3
   },
   "file_extension": ".py",
   "mimetype": "text/x-python",
   "name": "python",
   "nbconvert_exporter": "python",
   "pygments_lexer": "ipython3",
   "version": "3.11.4"
  }
 },
 "nbformat": 4,
 "nbformat_minor": 2
}

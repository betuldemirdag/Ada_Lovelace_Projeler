{
 "cells": [
  {
   "cell_type": "code",
   "execution_count": 7,
   "metadata": {},
   "outputs": [],
   "source": [
    "import requests\n",
    "from config import OPENWHEATHER_API_KEY\n",
    "import pandas as pd"
   ]
  },
  {
   "cell_type": "code",
   "execution_count": 13,
   "metadata": {},
   "outputs": [],
   "source": [
    "url = \"http://api.openweathermap.org/data/2.5/weather?q=London,uk&APPID=\"+OPENWHEATHER_API_KEY"
   ]
  },
  {
   "cell_type": "code",
   "execution_count": 14,
   "metadata": {},
   "outputs": [],
   "source": [
    "response = requests.get(url).json()"
   ]
  },
  {
   "cell_type": "code",
   "execution_count": 15,
   "metadata": {},
   "outputs": [
    {
     "data": {
      "text/plain": [
       "{'coord': {'lon': -0.1257, 'lat': 51.5085},\n",
       " 'weather': [{'id': 500,\n",
       "   'main': 'Rain',\n",
       "   'description': 'light rain',\n",
       "   'icon': '10n'}],\n",
       " 'base': 'stations',\n",
       " 'main': {'temp': 283.87,\n",
       "  'feels_like': 283.32,\n",
       "  'temp_min': 283.01,\n",
       "  'temp_max': 284.69,\n",
       "  'pressure': 1009,\n",
       "  'humidity': 89},\n",
       " 'visibility': 10000,\n",
       " 'wind': {'speed': 7.2, 'deg': 260},\n",
       " 'rain': {'1h': 0.35},\n",
       " 'clouds': {'all': 75},\n",
       " 'dt': 1703230982,\n",
       " 'sys': {'type': 2,\n",
       "  'id': 2075535,\n",
       "  'country': 'GB',\n",
       "  'sunrise': 1703232248,\n",
       "  'sunset': 1703260413},\n",
       " 'timezone': 0,\n",
       " 'id': 2643743,\n",
       " 'name': 'London',\n",
       " 'cod': 200}"
      ]
     },
     "execution_count": 15,
     "metadata": {},
     "output_type": "execute_result"
    }
   ],
   "source": [
    "response"
   ]
  },
  {
   "cell_type": "code",
   "execution_count": 51,
   "metadata": {},
   "outputs": [
    {
     "data": {
      "text/plain": [
       "{'temp': 283.87,\n",
       " 'feels_like': 283.32,\n",
       " 'temp_min': 283.01,\n",
       " 'temp_max': 284.69,\n",
       " 'pressure': 1009,\n",
       " 'humidity': 89}"
      ]
     },
     "execution_count": 51,
     "metadata": {},
     "output_type": "execute_result"
    }
   ],
   "source": [
    "response[\"main\"]"
   ]
  },
  {
   "cell_type": "code",
   "execution_count": 21,
   "metadata": {},
   "outputs": [
    {
     "data": {
      "text/plain": [
       "{'lon': -0.1257, 'lat': 51.5085}"
      ]
     },
     "execution_count": 21,
     "metadata": {},
     "output_type": "execute_result"
    }
   ],
   "source": [
    "response[\"coord\"]"
   ]
  },
  {
   "cell_type": "code",
   "execution_count": 24,
   "metadata": {},
   "outputs": [
    {
     "data": {
      "text/plain": [
       "{'speed': 7.2, 'deg': 260}"
      ]
     },
     "execution_count": 24,
     "metadata": {},
     "output_type": "execute_result"
    }
   ],
   "source": [
    "response[\"wind\"]"
   ]
  },
  {
   "cell_type": "code",
   "execution_count": 26,
   "metadata": {},
   "outputs": [
    {
     "data": {
      "text/plain": [
       "{'type': 2,\n",
       " 'id': 2075535,\n",
       " 'country': 'GB',\n",
       " 'sunrise': 1703232248,\n",
       " 'sunset': 1703260413}"
      ]
     },
     "execution_count": 26,
     "metadata": {},
     "output_type": "execute_result"
    }
   ],
   "source": [
    "response[\"sys\"]"
   ]
  },
  {
   "cell_type": "code",
   "execution_count": 27,
   "metadata": {},
   "outputs": [
    {
     "data": {
      "text/plain": [
       "'London'"
      ]
     },
     "execution_count": 27,
     "metadata": {},
     "output_type": "execute_result"
    }
   ],
   "source": [
    "response[\"name\"]"
   ]
  },
  {
   "cell_type": "code",
   "execution_count": 52,
   "metadata": {},
   "outputs": [
    {
     "name": "stderr",
     "output_type": "stream",
     "text": [
      "C:\\Users\\BETÜL DEMİRDAĞ\\AppData\\Local\\Temp\\ipykernel_17448\\3224800789.py:17: FutureWarning: The frame.append method is deprecated and will be removed from pandas in a future version. Use pandas.concat instead.\n",
      "  df = df.append({\n"
     ]
    }
   ],
   "source": [
    "df = pd.DataFrame(columns=[\"id\",\"country\",\"lon\",\"lat\",\"sunrise\",\"sunset\",\"wind_speed\",\"temperature\", \"pressure\", \"humidity\", \"temp_max\", \"temp_min\"]) \n",
    "\n",
    "id = response[\"sys\"][\"id\"]\n",
    "country = response[\"name\"]\n",
    "lon = response[\"coord\"][\"lon\"]\n",
    "lat = response[\"coord\"][\"lat\"]\n",
    "sunrise = response[\"sys\"][\"sunrise\"]\n",
    "sunset = response[\"sys\"][\"sunset\"]\n",
    "wind_speed = response[\"wind\"][\"speed\"]\n",
    "temp = response[\"main\"][\"temp\"]\n",
    "press = response[\"main\"][\"pressure\"]\n",
    "humidity = response[\"main\"][\"humidity\"]\n",
    "temp_max = response[\"main\"][\"temp_max\"]\n",
    "temp_min = response[\"main\"][\"temp_min\"]\n",
    "\n",
    "\n",
    "df = df.append({\n",
    "    \"id\": id,\n",
    "    \"country\": country,\n",
    "    \"lon\": lon,\n",
    "    \"lat\": lat,\n",
    "    \"sunrise\": sunrise,\n",
    "    \"sunset\": sunset,\n",
    "    \"wind_speed\": wind_speed,\n",
    "    \"temperature\": temp,\n",
    "    \"pressure\": press,\n",
    "    \"humidity\": humidity,\n",
    "    \"temp_max\": temp_max,\n",
    "    \"temp_min\": temp_min\n",
    "    }, \n",
    "    ignore_index = True\n",
    "    )"
   ]
  },
  {
   "cell_type": "code",
   "execution_count": 53,
   "metadata": {},
   "outputs": [
    {
     "data": {
      "text/html": [
       "<div>\n",
       "<style scoped>\n",
       "    .dataframe tbody tr th:only-of-type {\n",
       "        vertical-align: middle;\n",
       "    }\n",
       "\n",
       "    .dataframe tbody tr th {\n",
       "        vertical-align: top;\n",
       "    }\n",
       "\n",
       "    .dataframe thead th {\n",
       "        text-align: right;\n",
       "    }\n",
       "</style>\n",
       "<table border=\"1\" class=\"dataframe\">\n",
       "  <thead>\n",
       "    <tr style=\"text-align: right;\">\n",
       "      <th></th>\n",
       "      <th>id</th>\n",
       "      <th>country</th>\n",
       "      <th>lon</th>\n",
       "      <th>lat</th>\n",
       "      <th>sunrise</th>\n",
       "      <th>sunset</th>\n",
       "      <th>wind_speed</th>\n",
       "      <th>temperature</th>\n",
       "      <th>pressure</th>\n",
       "      <th>humidity</th>\n",
       "      <th>temp_max</th>\n",
       "      <th>temp_min</th>\n",
       "    </tr>\n",
       "  </thead>\n",
       "  <tbody>\n",
       "    <tr>\n",
       "      <th>0</th>\n",
       "      <td>2075535</td>\n",
       "      <td>London</td>\n",
       "      <td>-0.1257</td>\n",
       "      <td>51.5085</td>\n",
       "      <td>1703232248</td>\n",
       "      <td>1703260413</td>\n",
       "      <td>7.2</td>\n",
       "      <td>283.87</td>\n",
       "      <td>1009</td>\n",
       "      <td>89</td>\n",
       "      <td>284.69</td>\n",
       "      <td>283.01</td>\n",
       "    </tr>\n",
       "  </tbody>\n",
       "</table>\n",
       "</div>"
      ],
      "text/plain": [
       "        id country     lon      lat     sunrise      sunset  wind_speed  \\\n",
       "0  2075535  London -0.1257  51.5085  1703232248  1703260413         7.2   \n",
       "\n",
       "   temperature pressure humidity  temp_max  temp_min  \n",
       "0       283.87     1009       89    284.69    283.01  "
      ]
     },
     "execution_count": 53,
     "metadata": {},
     "output_type": "execute_result"
    }
   ],
   "source": [
    "df"
   ]
  }
 ],
 "metadata": {
  "kernelspec": {
   "display_name": "base",
   "language": "python",
   "name": "python3"
  },
  "language_info": {
   "codemirror_mode": {
    "name": "ipython",
    "version": 3
   },
   "file_extension": ".py",
   "mimetype": "text/x-python",
   "name": "python",
   "nbconvert_exporter": "python",
   "pygments_lexer": "ipython3",
   "version": "3.11.4"
  }
 },
 "nbformat": 4,
 "nbformat_minor": 2
}
